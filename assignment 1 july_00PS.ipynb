{
 "cells": [
  {
   "cell_type": "markdown",
   "id": "0778c874",
   "metadata": {},
   "source": [
    "Python Assignment OOps:\n",
    "\n",
    "\n",
    "1.What is the primary goal of Object-Oriented Programming (OOP)?\n",
    "\n",
    "Ans=The primary goal of Object-Oriented Programming (OOP) in Python, in simple terms, is to organize and structure code by representing real-world objects and their interactions. OOP helps create reusable and modular code, making it easier to develop and maintain complex software systems.\n",
    "\n",
    "2.What is an object in Python?\n",
    "\n",
    "Ans-In Python, an object is a fundamental concept that represents a specific instance of a class. It is a self-contained entity that combines data (attributes) and behaviors (methods) into a single unit.\n",
    "\n",
    "3.What is a class in Python?\n",
    "Ans= a class is a blueprint for creating objects (instances) that have certain attributes (variables) and behaviors (methods). It serves as a template or a prototype that defines the structure and behavior of objects of a specific type\n",
    "\n",
    "4.What are attributes and methods in a class?\n",
    "Ans=Attributes store information about the object's current state. For example, if you have a class called \"Car,\" some possible attributes could be \"color,\" \"brand,\" \"model,\" and \"current_speed.\" Each instance of the Car class (i.e., each car object) will have its own set of attribute values.Attributes can have different data types such as strings, numbers, booleans, or even other objects.\n",
    "methods=These are functions defined within a class that define the behavior of the objects. Methods represent the actions or operations that objects can perform.\n",
    "\n",
    "\n",
    "5.What is the difference between class variables and instance variables in Python?\n",
    "Ans=Class Variables:\n",
    "Class variables are shared among all instances of a class.\n",
    "They are defined within the class but outside of any instance methods.\n",
    "Class variables are typically used to store data that is common to all instances of the class.\n",
    "\n",
    "Instance Variables:\n",
    "Instance variables are specific to each instance of a class.\n",
    "They are defined within the instance methods or the constructor of a class.\n",
    "Each instance of a class can have different values for its instance variables.\n",
    "\n",
    "\n",
    "6.What is the purpose of the self parameter in Python class methods?\n",
    "Ans=The self parameter is a reference to the current instance of the class, and is used to access variables that belongs to the class.\n"
   ]
  },
  {
   "cell_type": "markdown",
   "id": "92874765",
   "metadata": {},
   "source": [
    "7.For a library management system, you have to design the \"Book\" class with OOP\n",
    "principles in mind. The “Book” class will have following attributes:\n",
    "a. title: Represents the title of the book.\n",
    "b. author: Represents the author(s) of the book.\n",
    "c. isbn: Represents the ISBN (International Standard Book Number) of the book.\n",
    "d. publication_year: Represents the year of publication of the book.\n",
    "e. available_copies: Represents the number of copies available for checkout.\n",
    "The class will also include the following methods:\n",
    "a. check_out(self): Decrements the available copies by one if there are copies\n",
    "available for checkout.\n",
    "b. return_book(self): Increments the available copies by one when a book is\n",
    "returned.\n",
    "c. display_book_info(self): Displays the information about the book, including its\n",
    "attributes and the number of available copies."
   ]
  },
  {
   "cell_type": "code",
   "execution_count": 1,
   "id": "20da6e0f",
   "metadata": {},
   "outputs": [],
   "source": [
    "class Book:\n",
    "    def __init__(self, title, author, isbn, publication_year, available_copies):\n",
    "        self.title = title\n",
    "        self.author = author\n",
    "        self.isbn = isbn\n",
    "        self.publication_year = publication_year\n",
    "        self.available_copies = available_copies\n",
    "\n",
    "    def check_out(self):\n",
    "        if self.available_copies > 0:\n",
    "            self.available_copies -= 1\n",
    "            print(\"Book checked out successfully.\")\n",
    "        else:\n",
    "            print(\"No copies of the book are currently available.\")\n",
    "\n",
    "    def return_book(self):\n",
    "        self.available_copies += 1\n",
    "        print(\"Book returned successfully.\")\n",
    "\n",
    "    def display_book_info(self):\n",
    "        print(\"Book Information:\")\n",
    "        print(\"Title:\", self.title)\n",
    "        print(\"Author(s):\", self.author)\n",
    "        print(\"ISBN:\", self.isbn)\n",
    "        print(\"Publication Year:\", self.publication_year)\n",
    "        print(\"Available Copies:\", self.available_copies)\n",
    "\n",
    "\n"
   ]
  },
  {
   "cell_type": "code",
   "execution_count": 2,
   "id": "d588d190",
   "metadata": {},
   "outputs": [],
   "source": [
    "book1 = Book(\"The Good Thoughts\", \"F. Scott\", \"978-3-16-148410-0\", 1925, 3)"
   ]
  },
  {
   "cell_type": "code",
   "execution_count": 4,
   "id": "2b3297e9",
   "metadata": {},
   "outputs": [
    {
     "name": "stdout",
     "output_type": "stream",
     "text": [
      "Book Information:\n",
      "Title: The Good Thoughts\n",
      "Author(s): F. Scott\n",
      "ISBN: 978-3-16-148410-0\n",
      "Publication Year: 1925\n",
      "Available Copies: 3\n",
      "Book checked out successfully.\n",
      "Book returned successfully.\n",
      "Book Information:\n",
      "Title: The Good Thoughts\n",
      "Author(s): F. Scott\n",
      "ISBN: 978-3-16-148410-0\n",
      "Publication Year: 1925\n",
      "Available Copies: 3\n"
     ]
    }
   ],
   "source": [
    "book1.display_book_info()\n",
    "book1.check_out()\n",
    "book1.return_book()\n",
    "book1.display_book_info()"
   ]
  },
  {
   "cell_type": "markdown",
   "id": "5c5f0af5",
   "metadata": {},
   "source": [
    "8.For a ticket booking system, you have to design the \"Ticket\" class with OOP\n",
    "principles in mind. The “Ticket” class should have the following attributes:\n",
    "a. ticket_id: Represents the unique identifier for the ticket.\n",
    "b. event_name: Represents the name of the event.\n",
    "c. event_date: Represents the date of the event.\n",
    "d. venue: Represents the venue of the event.\n",
    "e. seat_number: Represents the seat number associated with the ticket.\n",
    "f. price: Represents the price of the ticket.\n",
    "g. is_reserved: Represents the reservation status of the ticket.\n",
    "The class also includes the following methods:\n",
    "a. reserve_ticket(self): Marks the ticket as reserved if it is not already reserved.\n",
    "b. cancel_reservation(self): Cancels the reservation of the ticket if it is already\n",
    "reserved.\n",
    "c. display_ticket_info(self): Displays the information about the ticket, including its\n",
    "attributes and reservation status.\n",
    "\n"
   ]
  },
  {
   "cell_type": "code",
   "execution_count": 5,
   "id": "b15d6d89",
   "metadata": {},
   "outputs": [],
   "source": [
    "class Ticket:\n",
    "    def __init__(self, ticket_id, event_name, event_date, venue, seat_number, price):\n",
    "        self.ticket_id = ticket_id\n",
    "        self.event_name = event_name\n",
    "        self.event_date = event_date\n",
    "        self.venue = venue\n",
    "        self.seat_number = seat_number\n",
    "        self.price = price\n",
    "        self.is_reserved = False\n",
    "    \n",
    "    def reserve_ticket(self):\n",
    "        if not self.is_reserved:\n",
    "            self.is_reserved = True\n",
    "            print(\"Ticket reserved successfully.\")\n",
    "        else:\n",
    "            print(\"Ticket is already reserved.\")\n",
    "    \n",
    "    def cancel_reservation(self):\n",
    "        if self.is_reserved:\n",
    "            self.is_reserved = False\n",
    "            print(\"Ticket reservation cancelled.\")\n",
    "        else:\n",
    "            print(\"Ticket is not reserved.\")\n",
    "    \n",
    "    def display_ticket_info(self):\n",
    "        print(\"Ticket Information:\")\n",
    "        print(\"Ticket ID:\", self.ticket_id)\n",
    "        print(\"Event Name:\", self.event_name)\n",
    "        print(\"Event Date:\", self.event_date)\n",
    "        print(\"Venue:\", self.venue)\n",
    "        print(\"Seat Number:\", self.seat_number)\n",
    "        print(\"Price:\", self.price)\n",
    "        print(\"Reservation Status:\", \"Reserved\" if self.is_reserved else \"Not Reserved\")\n"
   ]
  },
  {
   "cell_type": "code",
   "execution_count": 6,
   "id": "aaec6805",
   "metadata": {},
   "outputs": [
    {
     "name": "stdout",
     "output_type": "stream",
     "text": [
      "Ticket Information:\n",
      "Ticket ID: T123\n",
      "Event Name: Concert\n",
      "Event Date: 2023-07-10\n",
      "Venue: Stadium\n",
      "Seat Number: Aw12\n",
      "Price: 50\n",
      "Reservation Status: Not Reserved\n",
      "Ticket reserved successfully.\n",
      "Ticket reservation cancelled.\n"
     ]
    }
   ],
   "source": [
    "ticket1 = Ticket(\"T123\", \"Concert\", \"2023-07-10\", \"Stadium\", \"Aw12\", 50)\n",
    "ticket1.display_ticket_info()\n",
    "ticket1.reserve_ticket()\n",
    "\n",
    "ticket1.cancel_reservation()\n"
   ]
  },
  {
   "cell_type": "markdown",
   "id": "09011942",
   "metadata": {},
   "source": [
    "9.You are creating a shopping cart for an e-commerce website. Using OOP to model\n",
    "the \"ShoppingCart\" functionality the class should contain following attributes and\n",
    "methods:\n",
    "a. items: Represents the list of items in the shopping cart.\n",
    "The class also includes the following methods:\n",
    "a. add_item(self, item): Adds an item to the shopping cart by appending it to the\n",
    "list of items.\n",
    "b. remove_item(self, item): Removes an item from the shopping cart if it exists in\n",
    "the list.\n",
    "c. view_cart(self): Displays the items currently present in the shopping cart.\n",
    "d. clear_cart(self): Clears all items from the shopping cart by reassigning an\n",
    "empty list to the items attribute."
   ]
  },
  {
   "cell_type": "code",
   "execution_count": 11,
   "id": "6add5975",
   "metadata": {},
   "outputs": [],
   "source": [
    "class ShoppingCart:\n",
    "    def __init__(self):\n",
    "        self.items = []\n",
    "\n",
    "    def add_item(self, item):\n",
    "        self.items.append(item)\n",
    "\n",
    "    def remove_item(self, item):\n",
    "        if item in self.items:\n",
    "            self.items.remove(item)\n",
    "        else:\n",
    "            print(f\"{item} is not in the shopping cart.\")\n",
    "\n",
    "    def view_cart(self):\n",
    "        if self.items:\n",
    "            print(\"Items in the shopping cart:\")\n",
    "            for item in self.items:\n",
    "                print(item)\n",
    "        else:\n",
    "            print(\"The shopping cart is empty.\")\n",
    "\n",
    "    def clear_cart(self):\n",
    "        self.items = []\n",
    "        print(\"The shopping cart is cleared.\")\n"
   ]
  },
  {
   "cell_type": "code",
   "execution_count": 8,
   "id": "7e18fd3d",
   "metadata": {},
   "outputs": [
    {
     "name": "stdout",
     "output_type": "stream",
     "text": [
      "Items in the shopping cart:\n",
      "Item 1\n",
      "Item 2\n",
      "Item 3\n"
     ]
    }
   ],
   "source": [
    "cart = ShoppingCart()\n",
    "cart.add_item(\"Item 1\")\n",
    "cart.add_item(\"Item 2\")\n",
    "cart.add_item(\"Item 3\")\n",
    "\n",
    "cart.view_cart()\n",
    "\n",
    "\n"
   ]
  },
  {
   "cell_type": "code",
   "execution_count": 9,
   "id": "e0bca323",
   "metadata": {},
   "outputs": [
    {
     "name": "stdout",
     "output_type": "stream",
     "text": [
      "Items in the shopping cart:\n",
      "Item 1\n",
      "Item 3\n"
     ]
    }
   ],
   "source": [
    "cart.remove_item(\"Item 2\")\n",
    "\n",
    "cart.view_cart()\n"
   ]
  },
  {
   "cell_type": "code",
   "execution_count": 10,
   "id": "54c4eaa8",
   "metadata": {},
   "outputs": [
    {
     "name": "stdout",
     "output_type": "stream",
     "text": [
      "The shopping cart is cleared.\n",
      "The shopping cart is empty.\n"
     ]
    }
   ],
   "source": [
    "\n",
    "cart.clear_cart()\n",
    "\n",
    "cart.view_cart()\n"
   ]
  },
  {
   "cell_type": "markdown",
   "id": "759bd5b6",
   "metadata": {},
   "source": [
    "10.Imagine a school management system. You have to design the \"Student\" class using\n",
    "OOP concepts.The “Student” class has the following attributes:\n",
    "a. name: Represents the name of the student.\n",
    "b. age: Represents the age of the student.\n",
    "c. grade: Represents the grade or class of the student.\n",
    "d. student_id: Represents the unique identifier for the student.\n",
    "e. attendance: Represents the attendance record of the student.\n",
    "The class should also include the following methods:\n",
    "a. update_attendance(self, date, status): Updates the attendance record of the\n",
    "student for a given date with the provided status (e.g., present or absent).\n",
    "b. get_attendance(self): Returns the attendance record of the student.\n",
    "c. get_average_attendance(self): Calculates and returns the average\n",
    "attendance percentage of the student based on their attendance record."
   ]
  },
  {
   "cell_type": "code",
   "execution_count": 12,
   "id": "4ae18d6a",
   "metadata": {},
   "outputs": [],
   "source": [
    "class Student:\n",
    "    def __init__(self, name, age, grade, student_id):\n",
    "        self.name = name\n",
    "        self.age = age\n",
    "        self.grade = grade\n",
    "        self.student_id = student_id\n",
    "        self.attendance = {}\n",
    "\n",
    "    def update_attendance(self, date, status):\n",
    "        self.attendance[date] = status\n",
    "\n",
    "    def get_attendance(self):\n",
    "        return self.attendance\n",
    "\n",
    "    def get_average_attendance(self):\n",
    "        total_days = len(self.attendance)\n",
    "        present_days = sum(status == 'present' for status in self.attendance.values())\n",
    "        attendance_percentage = (present_days / total_days) * 100 if total_days > 0 else 0\n",
    "        return attendance_percentage\n"
   ]
  },
  {
   "cell_type": "code",
   "execution_count": 13,
   "id": "30764cec",
   "metadata": {},
   "outputs": [],
   "source": [
    "student1 = Student(\"John Doe\", 16, \"10th Grade\", \"S123456\")\n",
    "\n",
    "# Update attendance\n",
    "student1.update_attendance(\"2023-07-01\", \"present\")\n",
    "student1.update_attendance(\"2023-07-02\", \"absent\")\n",
    "student1.update_attendance(\"2023-07-03\", \"present\")\n"
   ]
  },
  {
   "cell_type": "code",
   "execution_count": 14,
   "id": "45eb2068",
   "metadata": {},
   "outputs": [
    {
     "name": "stdout",
     "output_type": "stream",
     "text": [
      "{'2023-07-01': 'present', '2023-07-02': 'absent', '2023-07-03': 'present'}\n"
     ]
    }
   ],
   "source": [
    "attendance_record = student1.get_attendance()\n",
    "print(attendance_record)"
   ]
  },
  {
   "cell_type": "code",
   "execution_count": 15,
   "id": "aaf8d343",
   "metadata": {},
   "outputs": [
    {
     "name": "stdout",
     "output_type": "stream",
     "text": [
      "66.66666666666666\n"
     ]
    }
   ],
   "source": [
    "average_attendance = student1.get_average_attendance()\n",
    "print(average_attendance)"
   ]
  },
  {
   "cell_type": "code",
   "execution_count": null,
   "id": "253702c3",
   "metadata": {},
   "outputs": [],
   "source": []
  }
 ],
 "metadata": {
  "kernelspec": {
   "display_name": "Python 3 (ipykernel)",
   "language": "python",
   "name": "python3"
  },
  "language_info": {
   "codemirror_mode": {
    "name": "ipython",
    "version": 3
   },
   "file_extension": ".py",
   "mimetype": "text/x-python",
   "name": "python",
   "nbconvert_exporter": "python",
   "pygments_lexer": "ipython3",
   "version": "3.10.9"
  }
 },
 "nbformat": 4,
 "nbformat_minor": 5
}
