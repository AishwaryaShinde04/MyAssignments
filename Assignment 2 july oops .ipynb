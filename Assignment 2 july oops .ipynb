{
 "cells": [
  {
   "cell_type": "markdown",
   "id": "172e4e48",
   "metadata": {},
   "source": [
    "1. Explain what inheritance is in object-oriented programming and why it is used.\n",
    "Ans:In object-oriented programming, inheritance is a fundamental concept that allows one class to inherit properties and behaviors from another class.\n",
    "used Inheritance:\n",
    "Code Reusability: Inheritance promotes code reuse by allowing classes to inherit common attributes and behaviors from a base class. \n",
    "Overriding and Overloading: Inheritance enables the overriding and overloading of methods.\n",
    "\n",
    "\n",
    "2.Discuss the concept of single inheritance and multiple inheritance, highlighting their\n",
    "differences and advantages.\n",
    "Ans:Single Inheritance:\n",
    "Single inheritance refers to the concept of a class inheriting properties and methods from a single base or parent class. In this model, a derived class can extend the functionality of the base class by adding new features or overriding existing ones. The derived class forms an \"is-a\" relationship with its base class, indicating that it is a specialized version of the base class.\n",
    "Multiple Inheritance:\n",
    "Multiple inheritance allows a class to inherit properties and methods from multiple base classes. A derived class can incorporate features from multiple parent classes, forming an \"is-a\" relationship with each of them.\n",
    "\n",
    "\n",
    "3.Explain the terms \"base class\" and \"derived class\" in the context of inheritance.\n",
    "Ans: A base class is a class that serves as the starting point for creating other classes. It contains common attributes and behaviors that can be inherited by other classes.\n",
    "\n",
    "A derived class is a class that is created from an existing base class. It inherits the attributes and behaviors of the base class and can also add its own unique attributes and behaviors.\n",
    "\n",
    "\n",
    "4.What is the significance of the \"protected\" access modifier in inheritance? How does\n",
    "it differ from \"private\" and \"public\" modifiers?\n",
    "Ans: Private: Members declared as \"private\" are only accessible within the same class. They are not visible to other classes, including subclasses.\n",
    "Protected: Members declared as \"protected\" are accessible within the same class, subclasses , and other classes within the same package.\n",
    "Public: Members declared as \"public\" have the highest level of accessibility. They can be accessed and used by any class or subclass\n",
    "\n",
    "5.What is the purpose of the \"super\" keyword in inheritance? Provide an example.\n",
    "Ans:The main purpose of the \"super\" keyword is to facilitate method overriding and provide a way to extend the behavior of the parent class in the child class while still maintaining the functionality defined in the parent class.\n",
    "\n"
   ]
  },
  {
   "cell_type": "code",
   "execution_count": 2,
   "id": "d4c80a7d",
   "metadata": {},
   "outputs": [
    {
     "name": "stdout",
     "output_type": "stream",
     "text": [
      "Hello, I'm the parent class.\n",
      "Hello, I'm the child class.\n"
     ]
    }
   ],
   "source": [
    "class ParentClass:\n",
    "    def __init__(self):\n",
    "        self.name = \"Parent\"\n",
    "\n",
    "    def greet(self):\n",
    "        print(\"Hello, I'm the parent class.\")\n",
    "\n",
    "class ChildClass(ParentClass):\n",
    "    def __init__(self):\n",
    "        super().__init__()  \n",
    "        self.name = \"Child\"\n",
    "\n",
    "    def greet(self):\n",
    "        super().greet()  \n",
    "        print(\"Hello, I'm the child class.\")\n",
    "\n",
    "\n",
    "child = ChildClass()\n",
    "\n",
    "child.greet()\n"
   ]
  },
  {
   "cell_type": "markdown",
   "id": "70838622",
   "metadata": {},
   "source": [
    "Create a base class called \"Vehicle\" with attributes like \"make\", \"model\", and \"year\".\n",
    "Then, create a derived class called \"Car\" that inherits from \"Vehicle\" and adds an\n",
    "attribute called \"fuel_type\". Implement appropriate methods in both classes."
   ]
  },
  {
   "cell_type": "code",
   "execution_count": 21,
   "id": "935bfdf4",
   "metadata": {},
   "outputs": [],
   "source": [
    "class Vehicle:\n",
    "    def __init__(self, make, model, year):\n",
    "        self.make = make\n",
    "        self.model = model\n",
    "        self.year = year\n",
    "    \n",
    "    def get_make(self):\n",
    "        return self.make\n",
    "    \n",
    "    def set_make(self, make):\n",
    "        self.make = make\n",
    "    \n",
    "    def get_model(self):\n",
    "        return self.model\n",
    "    \n",
    "    def set_model(self, model):\n",
    "        self.model = model\n",
    "    \n",
    "    def get_year(self):\n",
    "        return self.year\n",
    "    \n",
    "    def set_year(self, year):\n",
    "        self.year = year\n",
    "\n",
    "\n",
    "class Car(Vehicle):\n",
    "    def __init__(self, make, model, year, fuel_type):\n",
    "        super().__init__(make, model, year)\n",
    "        self.fuel_type = fuel_type\n",
    "    \n",
    "    def get_fuel_type(self):\n",
    "        return self.fuel_type\n",
    "    \n",
    "    def set_fuel_type(self, fuel_type):\n",
    "        self.fuel_type = fuel_type\n"
   ]
  },
  {
   "cell_type": "code",
   "execution_count": 22,
   "id": "e821d274",
   "metadata": {},
   "outputs": [
    {
     "name": "stdout",
     "output_type": "stream",
     "text": [
      "Ford\n",
      "Mustang\n",
      "2021\n"
     ]
    }
   ],
   "source": [
    "\n",
    "vehicle = Vehicle(\"Ford\", \"Mustang\", 2021)\n",
    "print(vehicle.get_make())  \n",
    "print(vehicle.get_model()) \n",
    "print(vehicle.get_year())  \n",
    "\n",
    "\n"
   ]
  },
  {
   "cell_type": "code",
   "execution_count": 23,
   "id": "2d1d85cb",
   "metadata": {},
   "outputs": [
    {
     "name": "stdout",
     "output_type": "stream",
     "text": [
      "Tesla\n",
      "Model S\n",
      "2022\n",
      "Electric\n"
     ]
    }
   ],
   "source": [
    "car = Car(\"Tesla\", \"Model S\", 2022, \"Electric\")\n",
    "print(car.get_make()) \n",
    "print(car.get_model())  \n",
    "print(car.get_year())  \n",
    "print(car.get_fuel_type())  \n",
    "\n"
   ]
  },
  {
   "cell_type": "code",
   "execution_count": 24,
   "id": "163da7fc",
   "metadata": {},
   "outputs": [
    {
     "name": "stdout",
     "output_type": "stream",
     "text": [
      "Hybrid\n"
     ]
    }
   ],
   "source": [
    "car.set_fuel_type(\"Hybrid\")\n",
    "print(car.get_fuel_type())  \n"
   ]
  },
  {
   "cell_type": "markdown",
   "id": "a4b5dfb2",
   "metadata": {},
   "source": [
    "7.Create a base class called \"Employee\" with attributes like \"name\" and \"salary.\"\n",
    "Derive two classes, \"Manager\" and \"Developer,\" from \"Employee.\" Add an additional\n",
    "attribute called \"department\" for the \"Manager\" class and \"programming_language\"\n",
    "for the \"Developer\" class."
   ]
  },
  {
   "cell_type": "code",
   "execution_count": 25,
   "id": "df023c7d",
   "metadata": {},
   "outputs": [],
   "source": [
    "class Employee:\n",
    "    def __init__(self, name, salary):\n",
    "        self.name = name\n",
    "        self.salary = salary\n",
    "\n",
    "\n",
    "class Manager(Employee):\n",
    "    def __init__(self, name, salary, department):\n",
    "        super().__init__(name, salary)\n",
    "        self.department = department\n",
    "\n",
    "\n",
    "class Developer(Employee):\n",
    "    def __init__(self, name, salary, programming_language):\n",
    "        super().__init__(name, salary)\n",
    "        self.programming_language = programming_language\n"
   ]
  },
  {
   "cell_type": "code",
   "execution_count": 26,
   "id": "bbf1cc0b",
   "metadata": {},
   "outputs": [
    {
     "name": "stdout",
     "output_type": "stream",
     "text": [
      "John Doe\n",
      "50000\n"
     ]
    }
   ],
   "source": [
    "\n",
    "employee = Employee(\"John Doe\", 50000)\n",
    "print(employee.name)  \n",
    "print(employee.salary)  \n"
   ]
  },
  {
   "cell_type": "code",
   "execution_count": 27,
   "id": "c29bfbbf",
   "metadata": {},
   "outputs": [
    {
     "name": "stdout",
     "output_type": "stream",
     "text": [
      "Jane Smith\n",
      "80000\n",
      "Sales\n"
     ]
    }
   ],
   "source": [
    "manager = Manager(\"Jane Smith\", 80000, \"Sales\")\n",
    "print(manager.name)  \n",
    "print(manager.salary)  \n",
    "print(manager.department)  \n",
    "\n"
   ]
  },
  {
   "cell_type": "code",
   "execution_count": 28,
   "id": "b3f256e4",
   "metadata": {},
   "outputs": [
    {
     "name": "stdout",
     "output_type": "stream",
     "text": [
      "Mike Johnson\n",
      "60000\n",
      "Python\n"
     ]
    }
   ],
   "source": [
    "developer = Developer(\"Mike Johnson\", 60000, \"Python\")\n",
    "print(developer.name)  \n",
    "print(developer.salary) \n",
    "print(developer.programming_language) \n"
   ]
  },
  {
   "cell_type": "markdown",
   "id": "5edd1f7d",
   "metadata": {},
   "source": [
    "8.Design a base class called \"Shape\" with attributes like \"colour\" and \"border_width.\"\n",
    "Create derived classes, \"Rectangle\" and \"Circle,\" that inherit from \"Shape\" and add\n",
    "specific attributes like \"length\" and \"width\" for the \"Rectangle\" class and \"radius\" for\n",
    "the \"Circle\" class."
   ]
  },
  {
   "cell_type": "code",
   "execution_count": 29,
   "id": "b7ab6e4d",
   "metadata": {},
   "outputs": [],
   "source": [
    "class Shape:\n",
    "    def __init__(self, colour, border_width):\n",
    "        self.colour = colour\n",
    "        self.border_width = border_width\n",
    "\n",
    "\n",
    "class Rectangle(Shape):\n",
    "    def __init__(self, colour, border_width, length, width):\n",
    "        super().__init__(colour, border_width)\n",
    "        self.length = length\n",
    "        self.width = width\n",
    "\n",
    "\n",
    "class Circle(Shape):\n",
    "    def __init__(self, colour, border_width, radius):\n",
    "        super().__init__(colour, border_width)\n",
    "        self.radius = radius\n"
   ]
  },
  {
   "cell_type": "markdown",
   "id": "8f78f037",
   "metadata": {},
   "source": [
    "9:Create a base class called \"Device\" with attributes like \"brand\" and \"model.\" Derive\n",
    "two classes, \"Phone\" and \"Tablet,\" from \"Device.\" Add specific attributes like\n",
    "\"screen_size\" for the \"Phone\" class and \"battery_capacity\" for the \"Tablet\" class.\n"
   ]
  },
  {
   "cell_type": "code",
   "execution_count": 30,
   "id": "846eb758",
   "metadata": {},
   "outputs": [
    {
     "name": "stdout",
     "output_type": "stream",
     "text": [
      "Phone: Apple iPhone 12, Screen Size: 6.1 inches\n",
      "Tablet: Samsung Galaxy Tab S7, Battery Capacity: 8000 mAh\n"
     ]
    }
   ],
   "source": [
    "class Device:\n",
    "    def __init__(self, brand, model):\n",
    "        self.brand = brand\n",
    "        self.model = model\n",
    "\n",
    "\n",
    "class Phone(Device):\n",
    "    def __init__(self, brand, model, screen_size):\n",
    "        super().__init__(brand, model)\n",
    "        self.screen_size = screen_size\n",
    "\n",
    "\n",
    "class Tablet(Device):\n",
    "    def __init__(self, brand, model, battery_capacity):\n",
    "        super().__init__(brand, model)\n",
    "        self.battery_capacity = battery_capacity\n",
    "\n",
    "\n",
    "\n",
    "my_phone = Phone(\"Apple\", \"iPhone 12\", 6.1)\n",
    "print(f\"Phone: {my_phone.brand} {my_phone.model}, Screen Size: {my_phone.screen_size} inches\")\n",
    "\n",
    "my_tablet = Tablet(\"Samsung\", \"Galaxy Tab S7\", 8000)\n",
    "print(f\"Tablet: {my_tablet.brand} {my_tablet.model}, Battery Capacity: {my_tablet.battery_capacity} mAh\")\n"
   ]
  },
  {
   "cell_type": "markdown",
   "id": "52908819",
   "metadata": {},
   "source": [
    "10.Create a base class called \"BankAccount\" with attributes like \"account_number\" and\n",
    "\"balance.\" Derive two classes, \"SavingsAccount\" and \"CheckingAccount,\" from\n",
    "\"BankAccount.\" Add specific methods like \"calculate_interest\" for the\n",
    "\"SavingsAccount\" class and \"deduct_fees\" for the \"CheckingAccount\" class."
   ]
  },
  {
   "cell_type": "code",
   "execution_count": 31,
   "id": "269dee54",
   "metadata": {},
   "outputs": [
    {
     "name": "stdout",
     "output_type": "stream",
     "text": [
      "Savings Account Balance: 1050.0\n",
      "Checking Account Balance: 490\n"
     ]
    }
   ],
   "source": [
    "class BankAccount:\n",
    "    def __init__(self, account_number, balance):\n",
    "        self.account_number = account_number\n",
    "        self.balance = balance\n",
    "\n",
    "class SavingsAccount(BankAccount):\n",
    "    def calculate_interest(self, rate):\n",
    "        interest = self.balance * rate\n",
    "        self.balance += interest\n",
    "\n",
    "class CheckingAccount(BankAccount):\n",
    "    def deduct_fees(self, fee):\n",
    "        self.balance -= fee\n",
    "\n",
    "\n",
    "savings_acc = SavingsAccount(\"SA123\", 1000)\n",
    "savings_acc.calculate_interest(0.05)  \n",
    "print(\"Savings Account Balance:\", savings_acc.balance)\n",
    "\n",
    "checking_acc = CheckingAccount(\"CA456\", 500)\n",
    "checking_acc.deduct_fees(10)  \n",
    "print(\"Checking Account Balance:\", checking_acc.balance)\n"
   ]
  },
  {
   "cell_type": "code",
   "execution_count": null,
   "id": "24af64b4",
   "metadata": {},
   "outputs": [],
   "source": []
  }
 ],
 "metadata": {
  "kernelspec": {
   "display_name": "Python 3 (ipykernel)",
   "language": "python",
   "name": "python3"
  },
  "language_info": {
   "codemirror_mode": {
    "name": "ipython",
    "version": 3
   },
   "file_extension": ".py",
   "mimetype": "text/x-python",
   "name": "python",
   "nbconvert_exporter": "python",
   "pygments_lexer": "ipython3",
   "version": "3.10.9"
  }
 },
 "nbformat": 4,
 "nbformat_minor": 5
}
